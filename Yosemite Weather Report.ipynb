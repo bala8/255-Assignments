{
 "cells": [
  {
   "cell_type": "markdown",
   "metadata": {
    "run_control": {
     "frozen": false,
     "read_only": false
    }
   },
   "source": [
    "# Yosemite/Nevada Weather Analysis\n",
    "\n",
    "This is a report on the historical analysis of weather patterns in an area that approximately overlaps the area of the state of California and Nevada.\n",
    "\n",
    "The data we will use here comes from [NOAA](https://www.ncdc.noaa.gov/). Specifically, it was downloaded from This [FTP site](ftp://ftp.ncdc.noaa.gov/pub/data/ghcn/daily/).\n",
    "\n",
    "We focused on six measurements:\n",
    "* **TMIN, TMAX:** the daily minimum and maximum temperature.\n",
    "* **TOBS:** The average temperature for each day.\n",
    "* **PRCP:** Daily Percipitation (in mm)\n",
    "* **SNOW:** Daily snowfall (in mm)\n",
    "* **SNWD:** The depth of accumulated snow.\n",
    "\n",
    "Map corresponding to area in the dataset.\n",
    "<p><img alt=\"bala-figures/map.jpeg\" src=\"bala-figures/map.jpeg\" width=\"700\" height=\"600\" /></p>\n",
    "\n",
    "\n",
    "\n",
    "## Sanity-check: comparison with outside sources\n",
    "\n",
    "<p>We start by comparing some of the general statistics with graphs that we obtained from a site called <a href=\"http://www.usclimatedata.com/climate/boston/massachusetts/united-states/usma0046\" target=\"_blank\">US Climate Data</a> The graph below shows the daily minimum and maximum temperatures for each month, as well as the total precipitation for each month.</p>\n",
    "\n",
    "<p>&nbsp;</p>\n",
    "\n",
    "<p><img alt=\"bala-figures/main-weather.png\" src=\"bala-figures/main-weather.png\" width=\"500\" height=\"500\" /></p>\n",
    "\n",
    "<p>&nbsp;</p>\n",
    "\n",
    "<p>We see that the min and max daily&nbsp;temperature agree with the ones we got from our data, once we translate Fahrenheit to Centigrade. Below is plot from dataset of TMIN and TMAX with 0: mean-std 1: mean and 2: mean+std</p>\n",
    "\n",
    "<p>&nbsp;</p>\n",
    "\n",
    "<p><img alt=\"bala-figures/tmin-tmax.png\" src=\"bala-figures/tmin-tmax.png\" style=\"height:250px; width:700px\" /></p>\n",
    "\n",
    "<p>To compare the precipitation&nbsp;we need to translate millimeter/day to inches/month. Below we have 0: mean-std 1: mean and 2: mean+std for PRCP values from the dataset</p>\n",
    "\n",
    "<p>&nbsp;<img alt=\"bala-figures/precipitation.png\" src=\"bala-figures/precipitation.png\" style=\"height:350px; width:500px\" /></p>\n"
   ]
  },
  {
   "cell_type": "markdown",
   "metadata": {
    "run_control": {
     "frozen": false,
     "read_only": false
    }
   },
   "source": [
    "## PCA analysis\n",
    "\n",
    "For each of the six measurement, we compute the percentate of the variance explained as a function of the number of eigen-vectors used.\n",
    "\n",
    "### Percentage of variance explained\n",
    "![fig-1.png](bala-figures/fig-1.png)\n",
    "\n",
    "We see that the top 5 eigen-vectors explain 65% of variance for TMIN, 70% for TOBS and 55% for TMAX. Based on these numbers we can conclude that of the three, TOBS is best explained by the top 5 eigenvectors. This is especially true for the first eigen-vector which, by itself, explains 62% of the variance.\n",
    "\n",
    "![fig-2.png](bala-figures/fig-2.png)\n",
    "\n",
    "The top 5 eigenvectors explain 15% of the variance for PRCP and 13% for SNOW and both these are low values. On the other hand the top 5 eigenvectors explain 82% of the variance for SNWD. This means that these top 5 eigenvectors capture most of the variation in the snow signals. \n",
    "\n",
    "It points to the fact that SNWD would be less noisy than SNOW as SNWD varies less between days and between the same date on diffferent years when compared to SNOW.\n",
    "\n",
    "Based on these numbers I wish to further analyze SNWD and TOBS measurements from the dataset."
   ]
  },
  {
   "cell_type": "markdown",
   "metadata": {
    "run_control": {
     "frozen": false,
     "read_only": false
    }
   },
   "source": [
    "## Analysis of Snow Depth (SNWD)\n",
    "\n",
    "I choose to analyze the eigen-decomposition for snow-depth because the first 4 eigen-vectors explain 80% of the variance by using the graph of mean and top 4 eigen-vectors. It is observed that the snow season is from mid-November to the end of June, where the middle of February marks the peak of the snow-depth.\n",
    "![snow-ana.png](bala-figures/snow-ana.png)"
   ]
  },
  {
   "cell_type": "markdown",
   "metadata": {
    "run_control": {
     "frozen": false,
     "read_only": false
    }
   },
   "source": [
    "Interpreting the eigen-functions we see that all 4 eigen-functions have certain portions similar to the mean SNWD plot which helps in the overall description of snow-depth. \n",
    "**eig1, eig2, eig3 and eig4** are similar in the following way. They all oscilate between positive and negative values. In other words, they correspond to changing the distribution of the snow depth over the winter months.\n",
    "\n",
    "They can be interpreted as follows:\n",
    "* **eig1:** less snow in January - mid June, less snow in mid November-December.\n",
    "* **eig2:** less snow in January - mid March, more snow in mid March-June, less snow in mid November-December.\n",
    "* **eig3:** slightly more snow in January - mid March, less snow in mid March-April, more snow in May-June, more snow in mid November-December.\n",
    "* **eig4:** little snow in January - mid March, almost no snow in April-June, less snow in November-December\n"
   ]
  },
  {
   "cell_type": "markdown",
   "metadata": {
    "run_control": {
     "frozen": false,
     "read_only": false
    }
   },
   "source": [
    "## Analysis of Average Temparature (TOBS)\n",
    "\n",
    "I choose to analyze the eigen-decomposition for snow-depth because the first 3 eigen-vectors explain 66% of the variance by using the graph of mean and top 3 eigen-vectors.\n",
    "![tobs-ana.png](bala-figures/tobs-ana.png)"
   ]
  },
  {
   "cell_type": "markdown",
   "metadata": {
    "run_control": {
     "frozen": false,
     "read_only": false
    }
   },
   "source": [
    "Interpreting the eigen-functions we see that all 3 eigen-functions have certain portions similar to the mean TOBS plot which helps in the overall description of snow-depth. Eig1 to some extent mimics the overall average temparature similar to the mean plot.\n",
    "\n",
    "**eig2 and eig3** are similar in the following way. They all oscilate between positive and negative values. In other words, they correspond to changing the distribution over the year.\n",
    "\n",
    "They can be interpreted as follows:\n",
    "* **eig1:** Indicates that average temparature is more in January-December.\n",
    "* **eig2:** more average temparature in January - April, less average temparature in May - October and more average temparature in November - December.\n",
    "* **eig3:** less average temparature in January - July, more average temparature in August - December with slight dip in mid November.\n"
   ]
  },
  {
   "cell_type": "markdown",
   "metadata": {
    "collapsed": true,
    "run_control": {
     "frozen": false,
     "read_only": false
    }
   },
   "source": [
    "## Examples of reconstructions (for SNWD)"
   ]
  },
  {
   "cell_type": "markdown",
   "metadata": {},
   "source": [
    "Coeff0:\n",
    "\n",
    "![coeff_1_plot.png](bala-figures/coeff_1_plot.png)\n",
    "\n",
    "From the plots we can conclude the mean is consistent for all of them. As coefficient 0 becomes more negative it becomes closer to target for snow depth."
   ]
  },
  {
   "cell_type": "markdown",
   "metadata": {},
   "source": [
    "Coeff1:\n",
    "\n",
    "![coeff_2_plot.png](bala-figures/coeff_2_plot.png)\n",
    "\n",
    "From the plots we can conclude the mean is consistent for all of them. As Coefficient 1 becomes more negative it becomes closer to target for snow depth."
   ]
  },
  {
   "cell_type": "markdown",
   "metadata": {},
   "source": [
    "Coeff2:\n",
    "\n",
    "![coeff_3_plot.png](bala-figures/coeff_3_plot.png)\n",
    "\n",
    "From the plots we can conclude the mean is consistent for all of them. As coefficient becomes more positve it becomes closer to target for snow depth."
   ]
  },
  {
   "cell_type": "markdown",
   "metadata": {},
   "source": [
    "## The variation in the timing of TOBS is mostly due to station-to-station variation\n",
    "\n",
    "Coeff1:<br/>\n",
    "total RMS                    =  872.516277667<br/>\n",
    "RMS removing mean-by-station =  491.149555752, fraction explained = 43.7<br/>\n",
    "RMS removing mean-by-year    =  808.870716883, fraction explained = 7.3<br/>\n",
    "\n",
    "Coeff2:<br/>\n",
    "total RMS                    =  299.685060601<br/>\n",
    "RMS removing mean-by-station =  169.89146285, fraction explained = 43.33<br/>\n",
    "RMS removing mean-by-year    =  267.8148107, fraction explained = 10.63<br/>\n",
    "\n",
    "Coeff3:<br/>\n",
    "total RMS                   =  198.688095552<br/>\n",
    "RMS removing mean-by-station =  174.646531054, fraction explained = 12.1<br/>\n",
    "RMS removing mean-by-year   =  150.299247834, fraction explained = 24.3<br/>\n",
    "\n",
    "We see that the variation by station explains more than the variation by year."
   ]
  },
  {
   "cell_type": "markdown",
   "metadata": {},
   "source": [
    "## The variation in the timing of SNWD is mostly due to year-to-year variation\n",
    "\n",
    "Coeff1:<br/>\n",
    "total RMS                    =  3359.93064281<br/>\n",
    "RMS removing mean-by-station =  1880.565768, fraction explained = 44<br/>\n",
    "RMS removing mean-by-year    =  2505.43652363, fraction explained = 25.43<br/>\n",
    "\n",
    "Coeff2:<br/>\n",
    "total RMS                    =  1229.5296533<br/>\n",
    "RMS removing mean-by-station =  1090.23742062, fraction explained = 11.32<br/>\n",
    "RMS removing mean-by-year    =  859.293116903, fraction explained = 30.1<br/>\n",
    "\n",
    "Coeff3:<br/>\n",
    "total RMS                   =  1052.12813966<br/>\n",
    "RMS removing mean-by-station =  1018.94773308, fraction explained = 3.1<br/>\n",
    "RMS removing mean-by-year   =  694.772844026, fraction explained = 33.96<br/>\n",
    "\n",
    "We see that the variation by year explains more than the variation by station."
   ]
  },
  {
   "cell_type": "markdown",
   "metadata": {},
   "source": [
    "## Residuals Analysis (for SWND)\n",
    "\n",
    "![correlation.png](bala-figures/correlation.png)\n",
    "\n",
    "Consider the upper left corner of the matrix. The stations at positions 0-11 are clearly strongly correlated with each other. This probably is due to the fact most of these stations are around the yosemite area and receive snow around the same time of the year (Spatial relationship among the stations).\n",
    "\n",
    "stations IDs: [u'USC00043939', u'USC00049855', u'USC00040755', u'USC00261755', u'USC00263285', u'USC00042331', u'USC00045400', u'USC00044679', u'USC00048406', u'USC00049632', u'USC00049633']\n"
   ]
  },
  {
   "cell_type": "markdown",
   "metadata": {},
   "source": [
    "## Snow Fall CDF: \n",
    "\n",
    "![cdf-snow.png](bala-figures/cdf-snow.png)\n",
    "\n",
    "Conclusion from the above plot would be is it's likely to be hard to find correlations between the amount of snow on the same day in different stations. Because amounts of snow vary a lot between even close locations and most of the time there is 0 snowfall. \n",
    "\n",
    "This can also be concluded with the below correlation plot for SNOW which shows any existence of correlation among the stations.\n",
    "\n",
    "![snow-scatter.png](bala-figures/snow-scatter.png)\n"
   ]
  }
 ],
 "metadata": {
  "anaconda-cloud": {},
  "kernelspec": {
   "display_name": "Python 2",
   "language": "python",
   "name": "python2"
  },
  "language_info": {
   "codemirror_mode": {
    "name": "ipython",
    "version": 2
   },
   "file_extension": ".py",
   "mimetype": "text/x-python",
   "name": "python",
   "nbconvert_exporter": "python",
   "pygments_lexer": "ipython2",
   "version": "2.7.10"
  },
  "toc": {
   "colors": {
    "hover_highlight": "#DAA520",
    "running_highlight": "#FF0000",
    "selected_highlight": "#FFD700"
   },
   "moveMenuLeft": true,
   "nav_menu": {
    "height": "12px",
    "width": "252px"
   },
   "navigate_menu": true,
   "number_sections": true,
   "sideBar": true,
   "threshold": 4,
   "toc_cell": false,
   "toc_section_display": "block",
   "toc_window_display": false
  }
 },
 "nbformat": 4,
 "nbformat_minor": 2
}
